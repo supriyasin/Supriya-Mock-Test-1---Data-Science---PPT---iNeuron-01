{
 "cells": [
  {
   "cell_type": "code",
   "execution_count": 1,
   "id": "aa6ddfc2",
   "metadata": {},
   "outputs": [
    {
     "name": "stdout",
     "output_type": "stream",
     "text": [
      "[2, 4, 6, 8, 10]\n"
     ]
    }
   ],
   "source": [
    "#17. Write a function that takes a list of numbers as input and returns a new list containing only the even numbers \n",
    "from the input list. Use list comprehension to solve this problem.\n",
    "\n",
    "Example:\n",
    "\n",
    "Input: [1, 2, 3, 4, 5, 6, 7, 8, 9, 10]\n",
    "\n",
    "Output: [2, 4, 6, 8, 10]\n",
    "10 points\n",
    "\n",
    "\"\"\"Here's a Python function that takes a list of numbers as input and returns a new list containing only the even numbers\n",
    "   using list comprehension:\n",
    "   \n",
    "   This function iterates over each number in the input list using list comprehension syntax. The condition num % 2 == 0 \n",
    "   checks if the number is divisible by 2, indicating it is an even number. If the condition is true, the number is \n",
    "   included in the new list. Finally, the function returns the new list containing only the even numbers.\"\"\"\n",
    "\n",
    "#Here's an example usage of the function:\n",
    "\n",
    "def get_even_numbers(numbers):\n",
    "    return [num for num in numbers if num % 2 == 0]\n",
    "numbers = [1, 2, 3, 4, 5, 6, 7, 8, 9, 10]\n",
    "even_numbers = get_even_numbers(numbers)\n",
    "print(even_numbers)\n",
    "\n",
    "\"\"\"In this example, the input list is [1, 2, 3, 4, 5, 6, 7, 8, 9, 10], and the function returns a new list containing only \n",
    "   the even numbers [2, 4, 6, 8, 10].\"\"\""
   ]
  },
  {
   "cell_type": "code",
   "execution_count": null,
   "id": "328fcd1b",
   "metadata": {},
   "outputs": [],
   "source": []
  }
 ],
 "metadata": {
  "kernelspec": {
   "display_name": "Python 3 (ipykernel)",
   "language": "python",
   "name": "python3"
  },
  "language_info": {
   "codemirror_mode": {
    "name": "ipython",
    "version": 3
   },
   "file_extension": ".py",
   "mimetype": "text/x-python",
   "name": "python",
   "nbconvert_exporter": "python",
   "pygments_lexer": "ipython3",
   "version": "3.9.12"
  }
 },
 "nbformat": 4,
 "nbformat_minor": 5
}
